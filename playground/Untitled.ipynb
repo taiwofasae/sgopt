{
 "cells": [
  {
   "cell_type": "code",
   "execution_count": 4,
   "id": "f2357342-0a84-4f66-9b93-4ade742e3c66",
   "metadata": {},
   "outputs": [
    {
     "name": "stdout",
     "output_type": "stream",
     "text": [
      "usage: run_opt.py [-h] [--parameter_json_path PARAMETER_JSON_PATH]\n",
      "                  [--optimizer {sgd,ga}] [--output_json_path OUTPUT_JSON_PATH]\n",
      "\n",
      "SG Opt\n",
      "\n",
      "options:\n",
      "  -h, --help            show this help message and exit\n",
      "  --parameter_json_path PARAMETER_JSON_PATH\n",
      "                        File path for process parameters\n",
      "  --optimizer {sgd,ga}  'sgd' or 'ga'\n",
      "  --output_json_path OUTPUT_JSON_PATH\n",
      "                        File path for opt output\n"
     ]
    }
   ],
   "source": [
    "!python ..\\run_opt.py -h"
   ]
  },
  {
   "cell_type": "code",
   "execution_count": 3,
   "id": "7f864fa8-4663-421c-8bfd-f0901118d05c",
   "metadata": {},
   "outputs": [
    {
     "name": "stdout",
     "output_type": "stream",
     "text": [
      "=========================\n",
      "Title: run_opt\n",
      "=========================\n",
      "...loading process parameters\n",
      "Workpiece Params: L_w=5.0 b_w=10.6\n",
      "Cost Params: M=200.0 C_s=0.27 C_w=200.0\n",
      "Machine Params: R_t=4.0 d_s=350.0 b_s=30.0 D_e=350.0 f=0.38 d=0.126\n",
      "Process Params: Q_prime_l=0.1 Q_prime_u=15.0 Ra_max=0.3 burnp_r_max=0.5 burnp_f_max=0.5 a_total=2.0 v_w_l=6.0 v_w_u=30000.0 a_l=0.05 a_u=1.0 v_s_l=10.0 v_s_u=70.0\n",
      "...process parameters loading done!\n",
      "...Building grinding model...\n",
      "GrindingModel:\n",
      "\tCost params: Cost Params: M=200.0 C_s=0.27 C_w=200.0\n",
      "\tMachine params: Machine Params: R_t=4.0 d_s=350.0 b_s=30.0 D_e=350.0 f=0.38 d=0.126\n",
      "\tWorkpiece params: Workpiece Params: L_w=5.0 b_w=10.6\n",
      "\tCost model: cost_params=CostParameters(M=200.0, C_s=0.27, C_w=200.0) machine_params=MachineParameters(R_t=4.0, d_s=350.0, b_s=30.0, D_e=350.0, f=0.38, d=0.126) workpiece_params=WorkpieceParameters(L_w=5.0, b_w=10.6)\n",
      "\tInput ranges:\n",
      "\t\tLower: work_speed=6.0 cut_depth=0.05 wheel_speed=10.0\n",
      "\t\tUpper: work_speed=30000.0 cut_depth=1.0 wheel_speed=70.0\n",
      "\tConstraints:\n",
      "\t\tProcess constraint7: > Q_prime_l: Callable[[ProcessInput7], bool]\n",
      "\t\tProcess constraint7: < Q_prime_u: Callable[[ProcessInput7], bool]\n",
      "\t\tProcess constraint7: < Ra_max: Callable[[ProcessInput7], bool]\n",
      "\t\tProcess constraint7: no_burn_rough: Callable[[ProcessInput7], bool]\n",
      "\t\tProcess constraint7: no_burn_finish: Callable[[ProcessInput7], bool]\n",
      "\t\tProcess constraint7: = a total: Callable[[ProcessInput7], bool]\n",
      "...Building optimization commands...\n",
      "Optimization:\n",
      "Grinding model: GrindingModel:\n",
      "\tCost params: Cost Params: M=200.0 C_s=0.27 C_w=200.0\n",
      "\tMachine params: Machine Params: R_t=4.0 d_s=350.0 b_s=30.0 D_e=350.0 f=0.38 d=0.126\n",
      "\tWorkpiece params: Workpiece Params: L_w=5.0 b_w=10.6\n",
      "\tCost model: cost_params=CostParameters(M=200.0, C_s=0.27, C_w=200.0) machine_params=MachineParameters(R_t=4.0, d_s=350.0, b_s=30.0, D_e=350.0, f=0.38, d=0.126) workpiece_params=WorkpieceParameters(L_w=5.0, b_w=10.6)\n",
      "\tInput ranges:\n",
      "\t\tLower: work_speed=6.0 cut_depth=0.05 wheel_speed=10.0\n",
      "\t\tUpper: work_speed=30000.0 cut_depth=1.0 wheel_speed=70.0\n",
      "\tConstraints:\n",
      "\t\tProcess constraint7: > Q_prime_l: Callable[[ProcessInput7], bool]\n",
      "\t\tProcess constraint7: < Q_prime_u: Callable[[ProcessInput7], bool]\n",
      "\t\tProcess constraint7: < Ra_max: Callable[[ProcessInput7], bool]\n",
      "\t\tProcess constraint7: no_burn_rough: Callable[[ProcessInput7], bool]\n",
      "\t\tProcess constraint7: no_burn_finish: Callable[[ProcessInput7], bool]\n",
      "\t\tProcess constraint7: = a total: Callable[[ProcessInput7], bool]\n",
      "Objective: total_cost\n",
      "Constraints: <function <lambda> at 0x000001EF4AF911B0>\n",
      "Lower bound: Process 7 Inputs:\n",
      "Total cut depth: 0.1\t No. of passes: 2\n",
      "1x Rough: work_speed=6.0 cut_depth=0.05 wheel_speed=10.0\n",
      "Finish  : work_speed=6.0 cut_depth=0.05 wheel_speed=10.0\n",
      "\n",
      "Upper bound: Process 7 Inputs:\n",
      "Total cut depth: 11.0\t No. of passes: 11\n",
      "10x Rough: work_speed=30000.0 cut_depth=1.0 wheel_speed=70.0\n",
      "Finish  : work_speed=30000.0 cut_depth=1.0 wheel_speed=70.0\n",
      "\n",
      "Results:\n",
      "None\n",
      "Optimization:\n",
      "Grinding model: GrindingModel:\n",
      "\tCost params: Cost Params: M=200.0 C_s=0.27 C_w=200.0\n",
      "\tMachine params: Machine Params: R_t=4.0 d_s=350.0 b_s=30.0 D_e=350.0 f=0.38 d=0.126\n",
      "\tWorkpiece params: Workpiece Params: L_w=5.0 b_w=10.6\n",
      "\tCost model: cost_params=CostParameters(M=200.0, C_s=0.27, C_w=200.0) machine_params=MachineParameters(R_t=4.0, d_s=350.0, b_s=30.0, D_e=350.0, f=0.38, d=0.126) workpiece_params=WorkpieceParameters(L_w=5.0, b_w=10.6)\n",
      "\tInput ranges:\n",
      "\t\tLower: work_speed=6.0 cut_depth=0.05 wheel_speed=10.0\n",
      "\t\tUpper: work_speed=30000.0 cut_depth=1.0 wheel_speed=70.0\n",
      "\tConstraints:\n",
      "\t\tProcess constraint7: > Q_prime_l: Callable[[ProcessInput7], bool]\n",
      "\t\tProcess constraint7: < Q_prime_u: Callable[[ProcessInput7], bool]\n",
      "\t\tProcess constraint7: < Ra_max: Callable[[ProcessInput7], bool]\n",
      "\t\tProcess constraint7: no_burn_rough: Callable[[ProcessInput7], bool]\n",
      "\t\tProcess constraint7: no_burn_finish: Callable[[ProcessInput7], bool]\n",
      "\t\tProcess constraint7: = a total: Callable[[ProcessInput7], bool]\n",
      "Objective: total_cost\n",
      "Constraints: <function <lambda> at 0x000001EF4AF91090>\n",
      "Lower bound: Process 7 Inputs:\n",
      "Total cut depth: 0.1\t No. of passes: 2\n",
      "1x Rough: work_speed=6.0 cut_depth=0.05 wheel_speed=10.0\n",
      "Finish  : work_speed=6.0 cut_depth=0.05 wheel_speed=10.0\n",
      "\n",
      "Upper bound: Process 7 Inputs:\n",
      "Total cut depth: 11.0\t No. of passes: 11\n",
      "10x Rough: work_speed=30000.0 cut_depth=1.0 wheel_speed=70.0\n",
      "Finish  : work_speed=30000.0 cut_depth=1.0 wheel_speed=70.0\n",
      "\n",
      "Results:\n",
      "None\n",
      "...running...\n",
      "Running Genetic algorithm...\n",
      "Running Gradient descent algorithm...\n",
      "Completed.\n",
      "Results:\n",
      "Process 7 Inputs:\n",
      "Total cut depth: 1.2\t No. of passes: 6\n",
      "5x Rough: work_speed=5.0 cut_depth=0.2 wheel_speed=40.0\n",
      "Finish  : work_speed=5.0 cut_depth=0.2 wheel_speed=40.0\n",
      "\n",
      "=========================\n"
     ]
    }
   ],
   "source": [
    "!python run_opt.py --parameter_json_path=\"process_parameters.json\" --output_json_path=\"run_output\" --pp L_w=5 -v"
   ]
  },
  {
   "cell_type": "code",
   "execution_count": 2,
   "id": "280b5c0d-0896-44a7-91e0-11191320bb5f",
   "metadata": {},
   "outputs": [
    {
     "name": "stdout",
     "output_type": "stream",
     "text": [
      "=========================\n",
      "Title: run_opt\n",
      "=========================\n",
      "...loading process parameters\n",
      "...process parameters loading done!\n",
      "...Building grinding model...\n",
      "...Building optimization commands...\n",
      "...running...\n",
      "Running Genetic algorithm...\n",
      "Running Gradient descent algorithm...\n",
      "Completed.\n",
      "Results:\n",
      "Process 7 Inputs:\n",
      "Total cut depth: 1.2\t No. of passes: 6\n",
      "5x Rough: work_speed=5.0 cut_depth=0.2 wheel_speed=40.0\n",
      "Finish  : work_speed=5.0 cut_depth=0.2 wheel_speed=40.0\n",
      "\n",
      "=========================\n"
     ]
    }
   ],
   "source": [
    "%run -i run_opt.py --parameter_json_path=\"process_parameters.json\" --output_json_path=\"run_output\""
   ]
  },
  {
   "cell_type": "code",
   "execution_count": 22,
   "id": "0ad634a8-e26a-47d2-afb0-5b9cfdf8e317",
   "metadata": {},
   "outputs": [
    {
     "name": "stdout",
     "output_type": "stream",
     "text": [
      "{\"rough\":{\"work_speed\":5.0, \"cut_depth\": 0.2, \"wheel_speed\": 40.0}, \"r_passes\": 5, \"finish\": {\"work_speed\":5.0, \"cut_depth\": 0.2, \"wheel_speed\": 40.0},\"result0\": {\"rough\":{\"work_speed\":5.0, \"cut_depth\": 0.2, \"wheel_speed\": 40.0}, \"r_passes\": 5, \"finish\": {\"work_speed\":5.0, \"cut_depth\": 0.2, \"wheel_speed\": 40.0}}}\n"
     ]
    }
   ],
   "source": [
    "!type run_output.json"
   ]
  },
  {
   "cell_type": "code",
   "execution_count": null,
   "id": "d38248da-233c-402f-83ee-f84b272422d8",
   "metadata": {},
   "outputs": [],
   "source": []
  },
  {
   "cell_type": "code",
   "execution_count": null,
   "id": "c999f824-2cba-46fa-9fc0-ec30105a3521",
   "metadata": {},
   "outputs": [],
   "source": []
  }
 ],
 "metadata": {
  "kernelspec": {
   "display_name": "Python 3 (ipykernel)",
   "language": "python",
   "name": "python3"
  },
  "language_info": {
   "codemirror_mode": {
    "name": "ipython",
    "version": 3
   },
   "file_extension": ".py",
   "mimetype": "text/x-python",
   "name": "python",
   "nbconvert_exporter": "python",
   "pygments_lexer": "ipython3",
   "version": "3.10.11"
  }
 },
 "nbformat": 4,
 "nbformat_minor": 5
}
