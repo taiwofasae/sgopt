{
 "cells": [
  {
   "cell_type": "code",
   "execution_count": 16,
   "id": "f2357342-0a84-4f66-9b93-4ade742e3c66",
   "metadata": {},
   "outputs": [
    {
     "name": "stdout",
     "output_type": "stream",
     "text": [
      "usage: run_opt.py [-h] [--title TITLE] [--verbose]\n",
      "                  [--parameter_json_path PARAMETER_JSON_PATH] [--sgd] [--ga]\n",
      "                  [--output_json_path OUTPUT_JSON_PATH] [--r_passes R_PASSES]\n",
      "                  [--pp [PP ...]]\n",
      "\n",
      "SG Opt\n",
      "\n",
      "options:\n",
      "  -h, --help            show this help message and exit\n",
      "  --title TITLE, -t TITLE\n",
      "                        Title in output stream\n",
      "  --verbose, -v\n",
      "  --parameter_json_path PARAMETER_JSON_PATH\n",
      "                        File path for process parameters\n",
      "  --sgd                 Gradient descent\n",
      "  --ga                  Genetic algorithm\n",
      "  --output_json_path OUTPUT_JSON_PATH\n",
      "                        File path for opt output\n",
      "  --r_passes R_PASSES   No. of rough passes\n",
      "  --pp [PP ...]         Update parameters\n"
     ]
    }
   ],
   "source": [
    "!python run_opt.py -h"
   ]
  },
  {
   "cell_type": "code",
   "execution_count": 6,
   "id": "7f864fa8-4663-421c-8bfd-f0901118d05c",
   "metadata": {},
   "outputs": [
    {
     "name": "stdout",
     "output_type": "stream",
     "text": [
      "=========================\n",
      "Title: run_opt\n",
      "=========================\n",
      "...loading process parameters\n",
      "Workpiece Params: L_w=203.0 b_w=10.6\n",
      "Cost Params: M=200.0 C_s=0.27 C_w=200.0\n",
      "Machine Params: R_t=4.0 d_s=350.0 b_s=30.0 D_e=350.0 f=0.38 d=0.126\n",
      "Process Params: Q_prime_l=0.1 Q_prime_u=15.0 Ra_max=0.3 burnp_r_max=0.5 burnp_f_max=0.5 a_total=2.0 v_w_l=6.0 v_w_u=30000.0 a_l=0.05 a_u=1.0 v_s_l=10.0 v_s_u=70.0\n",
      "CTL Params: ctl_beta_0=0.742 ctl_beta_1=12.03 ctl_beta_2=-0.275\n",
      "Power Params: P_0=1.0 r=0.7531 s=1.9414\n",
      "...process parameters loading done!\n",
      "...Building grinding model...\n",
      "GrindingModel:\n",
      "\tCost params: Cost Params: M=200.0 C_s=0.27 C_w=200.0\n",
      "\tMachine params: Machine Params: R_t=4.0 d_s=350.0 b_s=30.0 D_e=350.0 f=0.38 d=0.126\n",
      "\tWorkpiece params: Workpiece Params: L_w=203.0 b_w=10.6\n",
      "\tCost model: cost_params=CostParameters(M=200.0, C_s=0.27, C_w=200.0) machine_params=MachineParameters(R_t=4.0, d_s=350.0, b_s=30.0, D_e=350.0, f=0.38, d=0.126) workpiece_params=WorkpieceParameters(L_w=203.0, b_w=10.6) burn_model=BurnModel(ctl_params=CTLParameters(ctl_beta_0=0.742, ctl_beta_1=12.03, ctl_beta_2=-0.275), machine_params=MachineParameters(R_t=4.0, d_s=350.0, b_s=30.0, D_e=350.0, f=0.38, d=0.126), power_model=PowerModel(power_params=PowerParameters(P_0=1.0, r=0.7531, s=1.9414), machine_params=MachineParameters(R_t=4.0, d_s=350.0, b_s=30.0, D_e=350.0, f=0.38, d=0.126)))\n",
      "\tInput ranges:\n",
      "\t\tLower: work_speed=6.0 cut_depth=0.05 wheel_speed=10.0\n",
      "\t\tUpper: work_speed=30000.0 cut_depth=1.0 wheel_speed=70.0\n",
      "\tConstraints:\n",
      "\t\tProcess constraint7: > Q_prime_l: Callable[[ProcessInput7], Any]\n",
      "\t\tProcess constraint7: < Q_prime_u: Callable[[ProcessInput7], Any]\n",
      "\t\tProcess constraint7: < Ra_max: Callable[[ProcessInput7], Any]\n",
      "\t\tProcess constraint7: no_burn_rough: Callable[[ProcessInput7], Any]\n",
      "\t\tProcess constraint7: no_burn_finish: Callable[[ProcessInput7], Any]\n",
      "\t\tProcess constraint7: = a total: Callable[[ProcessInput7], Any]\n",
      "...Building optimization commands...\n",
      "Optimization:\n",
      "Grinding model: GrindingModel:\n",
      "\tCost params: Cost Params: M=200.0 C_s=0.27 C_w=200.0\n",
      "\tMachine params: Machine Params: R_t=4.0 d_s=350.0 b_s=30.0 D_e=350.0 f=0.38 d=0.126\n",
      "\tWorkpiece params: Workpiece Params: L_w=203.0 b_w=10.6\n",
      "\tCost model: cost_params=CostParameters(M=200.0, C_s=0.27, C_w=200.0) machine_params=MachineParameters(R_t=4.0, d_s=350.0, b_s=30.0, D_e=350.0, f=0.38, d=0.126) workpiece_params=WorkpieceParameters(L_w=203.0, b_w=10.6) burn_model=BurnModel(ctl_params=CTLParameters(ctl_beta_0=0.742, ctl_beta_1=12.03, ctl_beta_2=-0.275), machine_params=MachineParameters(R_t=4.0, d_s=350.0, b_s=30.0, D_e=350.0, f=0.38, d=0.126), power_model=PowerModel(power_params=PowerParameters(P_0=1.0, r=0.7531, s=1.9414), machine_params=MachineParameters(R_t=4.0, d_s=350.0, b_s=30.0, D_e=350.0, f=0.38, d=0.126)))\n",
      "\tInput ranges:\n",
      "\t\tLower: work_speed=6.0 cut_depth=0.05 wheel_speed=10.0\n",
      "\t\tUpper: work_speed=30000.0 cut_depth=1.0 wheel_speed=70.0\n",
      "\tConstraints:\n",
      "\t\tProcess constraint7: > Q_prime_l: Callable[[ProcessInput7], Any]\n",
      "\t\tProcess constraint7: < Q_prime_u: Callable[[ProcessInput7], Any]\n",
      "\t\tProcess constraint7: < Ra_max: Callable[[ProcessInput7], Any]\n",
      "\t\tProcess constraint7: no_burn_rough: Callable[[ProcessInput7], Any]\n",
      "\t\tProcess constraint7: no_burn_finish: Callable[[ProcessInput7], Any]\n",
      "\t\tProcess constraint7: = a total: Callable[[ProcessInput7], Any]\n",
      "Objective: total_cost\n",
      "Constraints: <function <lambda> at 0x000002863542A8C0>\n",
      "Lower bound: Process 7 Inputs:\n",
      "Total cut depth: 0.1\t No. of passes: 2\n",
      "1x Rough: work_speed=6.0 cut_depth=0.05 wheel_speed=10.0\n",
      "Finish  : work_speed=6.0 cut_depth=0.05 wheel_speed=10.0\n",
      "\n",
      "Upper bound: Process 7 Inputs:\n",
      "Total cut depth: 11.0\t No. of passes: 11\n",
      "10x Rough: work_speed=30000.0 cut_depth=1.0 wheel_speed=70.0\n",
      "Finish  : work_speed=30000.0 cut_depth=1.0 wheel_speed=70.0\n",
      "\n",
      "Results:\n",
      "None\n",
      "...running...\n",
      "Running Genetic algorithm...\n",
      "GA result:\n",
      "Process 7 Inputs:\n",
      "Total cut depth: 2.726528727795362\t No. of passes: 3\n",
      "2x Rough: work_speed=29612.31281716373 cut_depth=0.8887541859620064 wheel_speed=43.50136150838034\n",
      "Finish  : work_speed=4441.111530135381 cut_depth=0.9490203558713491 wheel_speed=65.55415653505653\n",
      "\n",
      "Completed.\n",
      "Result:\n",
      "Process 7 Inputs:\n",
      "Total cut depth: 2.726528727795362\t No. of passes: 3\n",
      "2x Rough: work_speed=29612.31281716373 cut_depth=0.8887541859620064 wheel_speed=43.50136150838034\n",
      "Finish  : work_speed=4441.111530135381 cut_depth=0.9490203558713491 wheel_speed=65.55415653505653\n",
      "\n",
      "=========================\n"
     ]
    },
    {
     "name": "stderr",
     "output_type": "stream",
     "text": [
      "C:\\Users\\0074fasaet\\Documents\\grinding\\myenv\\lib\\site-packages\\pygad\\pygad.py:1139: UserWarning: The 'delay_after_gen' parameter is deprecated starting from PyGAD 3.3.0. To delay or pause the evolution after each generation, assign a callback function/method to the 'on_generation' parameter to adds some time delay.\n",
      "  warnings.warn(\"The 'delay_after_gen' parameter is deprecated starting from PyGAD 3.3.0. To delay or pause the evolution after each generation, assign a callback function/method to the 'on_generation' parameter to adds some time delay.\")\n"
     ]
    }
   ],
   "source": [
    "!python run_opt.py --parameter_json_path=\"process_parameters.json\" --output_json_path=\"run_output\" --ga -v"
   ]
  },
  {
   "cell_type": "code",
   "execution_count": null,
   "id": "280b5c0d-0896-44a7-91e0-11191320bb5f",
   "metadata": {},
   "outputs": [],
   "source": [
    "%run -i run_opt.py --parameter_json_path=\"process_parameters.json\" --output_json_path=\"run_output\" -v"
   ]
  },
  {
   "cell_type": "code",
   "execution_count": 3,
   "id": "0ad634a8-e26a-47d2-afb0-5b9cfdf8e317",
   "metadata": {},
   "outputs": [
    {
     "name": "stdout",
     "output_type": "stream",
     "text": [
      "{\"rough\":{\"work_speed\":1850.803645437783, \"cut_depth\": 0.48627467853915124, \"wheel_speed\": 10.00001168871376}, \"r_passes\": 4, \"finish\": {\"work_speed\":701.7230313828917, \"cut_depth\": 0.05654728063465041, \"wheel_speed\": 23.34450193329594},\"result0\": {\"rough\":{\"work_speed\":800.0, \"cut_depth\": 0.5, \"wheel_speed\": 50.0}, \"r_passes\": 4, \"finish\": {\"work_speed\":700.0, \"cut_depth\": 0.5, \"wheel_speed\": 60.0}}}\n"
     ]
    }
   ],
   "source": [
    "!type run_output.json"
   ]
  },
  {
   "cell_type": "code",
   "execution_count": 4,
   "id": "c999f824-2cba-46fa-9fc0-ec30105a3521",
   "metadata": {},
   "outputs": [
    {
     "name": "stdout",
     "output_type": "stream",
     "text": [
      "Optimization:\n",
      "Grinding model: GrindingModel:\n",
      "\tCost params: Cost Params: M=200.0 C_s=0.27 C_w=200.0\n",
      "\tMachine params: Machine Params: R_t=4.0 d_s=350.0 b_s=30.0 D_e=350.0 f=0.38 d=0.126\n",
      "\tWorkpiece params: Workpiece Params: L_w=203.0 b_w=10.6\n",
      "\tCost model: cost_params=CostParameters(M=200.0, C_s=0.27, C_w=200.0) machine_params=MachineParameters(R_t=4.0, d_s=350.0, b_s=30.0, D_e=350.0, f=0.38, d=0.126) workpiece_params=WorkpieceParameters(L_w=203.0, b_w=10.6)\n",
      "\tInput ranges:\n",
      "\t\tLower: work_speed=40.0 cut_depth=0.05 wheel_speed=40.0\n",
      "\t\tUpper: work_speed=40000.0 cut_depth=1.0 wheel_speed=70.0\n",
      "\tConstraints:\n",
      "\t\tProcess constraint7: > Q_prime_l: Callable[[ProcessInput7], Any]\n",
      "\t\tProcess constraint7: < Q_prime_u: Callable[[ProcessInput7], Any]\n",
      "\t\tProcess constraint7: power_max: Callable[[ProcessInput7], Any]\n",
      "\t\tProcess constraint7: force_max: Callable[[ProcessInput7], Any]\n",
      "\t\tProcess constraint7: stress_max: Callable[[ProcessInput7], Any]\n",
      "\t\tProcess constraint7: gratio_max: Callable[[ProcessInput7], Any]\n",
      "\t\tProcess constraint7: cost_max: Callable[[ProcessInput7], Any]\n",
      "\t\tProcess constraint7: wheelwear_max: Callable[[ProcessInput7], Any]\n",
      "\t\tProcess constraint7: < Ra_max: Callable[[ProcessInput7], Any]\n",
      "\t\tProcess constraint7: no_burn_rough: Callable[[ProcessInput7], Any]\n",
      "\t\tProcess constraint7: no_burn_finish: Callable[[ProcessInput7], Any]\n",
      "\t\tProcess constraint7: = a total: Callable[[ProcessInput7], Any]\n",
      "Objective: total_cost\n",
      "Constraints: <function <lambda> at 0x000001CB95DFEF80>\n",
      "Lower bound: Process 7 Inputs:\n",
      "Total cut depth: 0.1\t No. of passes: 2\n",
      "1x Rough: work_speed=40.0 cut_depth=0.05 wheel_speed=40.0\n",
      "Finish  : work_speed=40.0 cut_depth=0.05 wheel_speed=40.0\n",
      "\n",
      "Upper bound: Process 7 Inputs:\n",
      "Total cut depth: 11.0\t No. of passes: 11\n",
      "10x Rough: work_speed=40000.0 cut_depth=1.0 wheel_speed=70.0\n",
      "Finish  : work_speed=40000.0 cut_depth=1.0 wheel_speed=70.0\n",
      "\n",
      "Results:\n",
      "None\n",
      "work_speed=4.0 cut_depth=2.3 wheel_speed=5.4\n",
      "Process Input:\n",
      "Total cut depth: 4.6\t No. of passes: 2\n",
      "1: work_speed=4.0 cut_depth=2.3 wheel_speed=5.4\n",
      "2: work_speed=4.0 cut_depth=2.3 wheel_speed=5.4\n",
      "Process 7 Inputs:\n",
      "Total cut depth: 11.5\t No. of passes: 5\n",
      "4x Rough: work_speed=4.0 cut_depth=2.3 wheel_speed=5.4\n",
      "Finish  : work_speed=4.0 cut_depth=2.3 wheel_speed=5.4\n",
      "\n",
      "34.5484103419593\n"
     ]
    }
   ],
   "source": [
    "!python main.py"
   ]
  },
  {
   "cell_type": "code",
   "execution_count": 7,
   "id": "483d7e41-70f3-4b9c-ae3d-9a94d450e878",
   "metadata": {},
   "outputs": [],
   "source": [
    "class ProcessInput:\n",
    "\n",
    "    def __init__(self):\n",
    "        self._inputs = [5, 6]\n",
    "    \n",
    "    @property\n",
    "    def inputs(self):\n",
    "        return [self._inputs][0]"
   ]
  },
  {
   "cell_type": "code",
   "execution_count": 2,
   "id": "eb52f133-31c3-44c7-9c0a-db504b4f8f7f",
   "metadata": {},
   "outputs": [
    {
     "name": "stdout",
     "output_type": "stream",
     "text": [
      "Process 7 Inputs:\n",
      "Total cut depth: 0.9\t No. of passes: 4\n",
      "3x Rough: work_speed=1000.0 cut_depth=0.25 wheel_speed=40.0\n",
      "Finish  : work_speed=1000.0 cut_depth=0.15 wheel_speed=70.0\n",
      "\n",
      "Process 7 Inputs:\n",
      "Total cut depth: 0.736842105263158\t No. of passes: 4\n",
      "3x Rough: work_speed=0.030100334448160536 cut_depth=0.2105263157894737 wheel_speed=0.5\n",
      "Finish  : work_speed=0.030100334448160536 cut_depth=0.10526315789473684 wheel_speed=1.0\n",
      "\n",
      "Process 7 Inputs:\n",
      "Total cut depth: 0.9\t No. of passes: 4\n",
      "3x Rough: work_speed=1000.0 cut_depth=0.25 wheel_speed=40.0\n",
      "Finish  : work_speed=1000.0 cut_depth=0.15 wheel_speed=70.0\n",
      "\n"
     ]
    }
   ],
   "source": [
    "from grinding.optimization.utils import _rescale_solution\n",
    "from grinding.model.input_utils import ProcessInput7\n",
    "\n",
    "source = ProcessInput7.from_values([1000, 0.25, 40, 3, 1000, 0.15, 70])\n",
    "lb = ProcessInput7.from_values([100, 0.05, 10, 1, 100, 0.05, 10])\n",
    "ub = ProcessInput7.from_values([30000, 1.0, 70, 10, 30000, 1.0, 70])\n",
    "\n",
    "print(source)\n",
    "\n",
    "down = _rescale_solution(source, source_lower_bound=lb, source_upper_bound=ub, lower_bound=ProcessInput7.from_scalar(0), upper_bound=ProcessInput7.from_scalar(1))\n",
    "print(down)\n",
    "up = _rescale_solution(down, source_lower_bound=ProcessInput7.from_scalar(0), source_upper_bound=ProcessInput7.from_scalar(1), lower_bound=lb, upper_bound=ub)\n",
    "print(up)"
   ]
  }
 ],
 "metadata": {
  "kernelspec": {
   "display_name": "Python 3 (ipykernel)",
   "language": "python",
   "name": "python3"
  },
  "language_info": {
   "codemirror_mode": {
    "name": "ipython",
    "version": 3
   },
   "file_extension": ".py",
   "mimetype": "text/x-python",
   "name": "python",
   "nbconvert_exporter": "python",
   "pygments_lexer": "ipython3",
   "version": "3.10.11"
  }
 },
 "nbformat": 4,
 "nbformat_minor": 5
}
